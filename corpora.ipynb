{
 "cells": [
  {
   "cell_type": "code",
   "execution_count": 1,
   "metadata": {},
   "outputs": [],
   "source": [
    "import re"
   ]
  },
  {
   "cell_type": "code",
   "execution_count": 2,
   "metadata": {},
   "outputs": [],
   "source": [
    "from bs4 import BeautifulSoup"
   ]
  },
  {
   "cell_type": "code",
   "execution_count": 3,
   "metadata": {},
   "outputs": [],
   "source": [
    "def check_tags(soup):\n",
    "    message_list = []\n",
    "    tags = ['strong', 'em', 'u']\n",
    "    pattern = '[а-яА-Я]'\n",
    "    for tag in tags:\n",
    "        for message in soup.find_all(tag):\n",
    "            thing = (message.get_text(), str(message.parent).replace('\\n', ' ').replace('\\t', ' '), tag)\n",
    "            if thing not in message_list and re.search(pattern, message.get_text()):\n",
    "                message_list.append(thing)\n",
    "    return message_list"
   ]
  },
  {
   "cell_type": "code",
   "execution_count": 4,
   "metadata": {},
   "outputs": [],
   "source": [
    "def to_master_doc(num):\n",
    "    name = 'messages'+str(num)+'.html'\n",
    "    link = '/Users/uliamarkova/Documents/krsv/data/'\n",
    "    with open(link+name, encoding='utf-8') as f:\n",
    "        text = ' '.join(f.readlines())\n",
    "    soup = BeautifulSoup(text)\n",
    "    message_list = check_tags(soup)\n",
    "    with open('masterdoc.tsv', 'a', encoding=\"utf-8\") as f:\n",
    "        for i, message in enumerate(message_list):\n",
    "            f.write(str(num)+str(i)+'\\t'+message[0]+'\\t'+message[1]+'\\t'+message[2]+'\\n')"
   ]
  },
  {
   "cell_type": "code",
   "execution_count": 5,
   "metadata": {},
   "outputs": [],
   "source": [
    "with open('masterdoc.tsv', 'a', encoding='utf-8') as f:\n",
    "    f.write('id\\tformated\\tpost\\ttag\\n')\n",
    "for i in range(1, 61): \n",
    "    to_master_doc(i)"
   ]
  },
  {
   "cell_type": "code",
   "execution_count": 6,
   "metadata": {},
   "outputs": [],
   "source": [
    "import pandas as pd"
   ]
  },
  {
   "cell_type": "code",
   "execution_count": null,
   "metadata": {},
   "outputs": [],
   "source": [
    "df = pd.read_csv('masterdoc3.3.tsv', delimiter='\\t')\n",
    "df"
   ]
  },
  {
   "cell_type": "code",
   "execution_count": null,
   "metadata": {},
   "outputs": [],
   "source": []
  }
 ],
 "metadata": {
  "kernelspec": {
   "display_name": "Python 3",
   "language": "python",
   "name": "python3"
  },
  "language_info": {
   "codemirror_mode": {
    "name": "ipython",
    "version": 3
   },
   "file_extension": ".py",
   "mimetype": "text/x-python",
   "name": "python",
   "nbconvert_exporter": "python",
   "pygments_lexer": "ipython3",
   "version": "3.7.4"
  }
 },
 "nbformat": 4,
 "nbformat_minor": 4
}
